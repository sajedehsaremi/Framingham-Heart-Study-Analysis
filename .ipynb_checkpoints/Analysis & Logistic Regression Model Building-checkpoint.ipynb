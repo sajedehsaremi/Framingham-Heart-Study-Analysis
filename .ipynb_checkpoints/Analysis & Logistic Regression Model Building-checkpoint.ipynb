{
 "cells": [
  {
   "cell_type": "markdown",
   "id": "f434994c",
   "metadata": {},
   "source": [
    "### Framingham Heart Study\n",
    "Analysis & Model building (Healthcare)\n",
    "\n",
    "Table of Contents\n",
    "\n",
    "1. Information\n",
    "- Reason for Choosing this Dataset\n",
    "- Source\n",
    "- Details\n",
    "- Objective\n",
    "\n",
    "2. Loading Dataset\n",
    "- Importing packages\n",
    "- Reading Data\n",
    "- Shape of data\n",
    "- Dtype\n",
    "\n",
    "3. Data Cleansing & EDA\n",
    "- Checking Null values\n",
    "- Correlation Heatmap\n",
    "- Null values Imputation\n",
    "- Descriptive Statistics\n",
    "- EDA (Phase 1)\n",
    "- Mean Encoding\n",
    "- EDA (Phase 2)\n",
    "- Logarithmic Transformation\n",
    "\n",
    "4. Normalization\n",
    "5. Modelling\n",
    "- Splitting Data & Choosing Algorithms\n",
    "- Logistic Regression Implementation\n",
    "- Logistic Regression (Adding Class weight parameter)\n",
    "- Over-Sampling Dataset (SMOTE)\n",
    "- Logistic Regression Implementation\n",
    "- Evaluating Metrics (R2 and RMSLE)\n",
    "\n",
    "6. Conclusion\n",
    "\n",
    "\n",
    "Reason for Choosing this Dataset:\n",
    "\n",
    "WE want to investigate how Machine Learning can help Healthcare industries to become Data-Driven. Where, ML can predict the likelihood of subject who can suffer from a particular disease. Thereby, respective actions in the form of Treatments or Preventive Measures would be brought into consideration on the Individual.\n",
    "However, this Statistical models are not prepared to use for production environment.\n",
    "\n",
    "Source : Kaggle Website\n",
    "\n",
    "Background :\n",
    "The Framingham Heart Study is a long term prospective study of the etiology of cardiovascular disease among a population of free living subjects in the community of Framingham, Massachusetts. The Framingham Heart Study was a landmark study in epidemiology in that it was the first prospective study of cardiovascular disease and identified the concept of risk factors and their joint effects FHS Longitudinal Data Document.\n",
    "\n",
    "The dataset is a rather small subset of possible FHS dataset, having 4240 observations and 16 variables. The variables are as follows:\n",
    "\n",
    "sex : the gender of the observations. The variable is a binary named “male” in the dataset.\n",
    "age : Age at the time of medical examination in years.\n",
    "education : A categorical variable of the participants education, with the levels: Some high school (1), high school/GED (2), some college/vocational school (3), college (4)\n",
    "currentSmoker: Current cigarette smoking at the time of examinations\n",
    "cigsPerDay: Number of cigarettes smoked each day\n",
    "BPmeds: Use of Anti-hypertensive medication at exam\n",
    "prevalentStroke: Prevalent Stroke (0 = free of disease)\n",
    "prevalentHyp: Prevalent Hypertensive. Subject was defined as hypertensive if treated\n",
    "diabetes: Diabetic according to criteria of first exam treated\n",
    "totChol: Total cholesterol (mg/dL)\n",
    "sysBP: Systolic Blood Pressure (mmHg)\n",
    "diaBP: Diastolic blood pressure (mmHg)\n",
    "BMI: Body Mass Index, weight (kg)/height (m)^2\n",
    "heartRate: Heart rate (beats/minute)\n",
    "glucose: Blood glucose level (mg/dL)\n",
    "And finally the response variable : + TenYearCHD : The 10 year risk of coronary heart disease(CHD).\n",
    "\n",
    "Questionnaire :\n",
    "\n",
    "What is the spread of each attribute in the given data set ?\n",
    "\n",
    "Can we get the count of CHD w.r.t to Gender ?\n",
    "\n",
    "Can we group people of certain age together and figure out how Sys. BP and Dia. BP affects by Age group ?\n",
    "\n",
    "How is our Target variable distributed ? is it Imbalanced ?\n",
    "\n",
    "Objective :\n",
    "\n",
    "The goal is to make some logestic regression model as one of the predictive models on a FHS dataset, and reviewing some exploratory and modelling techiniques."
   ]
  },
  {
   "cell_type": "code",
   "execution_count": 1,
   "id": "8421e1d6",
   "metadata": {},
   "outputs": [],
   "source": [
    "#importing modules\n",
    "\n",
    "import numpy as np\n",
    "import pandas as pd\n",
    "import matplotlib.pyplot as plt\n",
    "import seaborn as sns\n",
    "from sklearn.model_selection import train_test_split"
   ]
  },
  {
   "cell_type": "code",
   "execution_count": 2,
   "id": "691efa2a",
   "metadata": {},
   "outputs": [
    {
     "data": {
      "text/html": [
       "<div>\n",
       "<style scoped>\n",
       "    .dataframe tbody tr th:only-of-type {\n",
       "        vertical-align: middle;\n",
       "    }\n",
       "\n",
       "    .dataframe tbody tr th {\n",
       "        vertical-align: top;\n",
       "    }\n",
       "\n",
       "    .dataframe thead th {\n",
       "        text-align: right;\n",
       "    }\n",
       "</style>\n",
       "<table border=\"1\" class=\"dataframe\">\n",
       "  <thead>\n",
       "    <tr style=\"text-align: right;\">\n",
       "      <th></th>\n",
       "      <th>ID</th>\n",
       "      <th>male</th>\n",
       "      <th>age</th>\n",
       "      <th>education</th>\n",
       "      <th>currentSmoker</th>\n",
       "      <th>cigsPerDay</th>\n",
       "      <th>BPMeds</th>\n",
       "      <th>prevalentStroke</th>\n",
       "      <th>prevalentHyp</th>\n",
       "      <th>diabetes</th>\n",
       "      <th>totChol</th>\n",
       "      <th>sysBP</th>\n",
       "      <th>diaBP</th>\n",
       "      <th>BMI</th>\n",
       "      <th>heartRate</th>\n",
       "      <th>glucose</th>\n",
       "      <th>TenYearCHD</th>\n",
       "    </tr>\n",
       "  </thead>\n",
       "  <tbody>\n",
       "    <tr>\n",
       "      <th>0</th>\n",
       "      <td>1</td>\n",
       "      <td>1</td>\n",
       "      <td>39</td>\n",
       "      <td>4.0</td>\n",
       "      <td>0</td>\n",
       "      <td>0.0</td>\n",
       "      <td>0.0</td>\n",
       "      <td>0</td>\n",
       "      <td>0</td>\n",
       "      <td>0</td>\n",
       "      <td>195.0</td>\n",
       "      <td>106.0</td>\n",
       "      <td>70.0</td>\n",
       "      <td>26.97</td>\n",
       "      <td>80.0</td>\n",
       "      <td>77.0</td>\n",
       "      <td>0</td>\n",
       "    </tr>\n",
       "    <tr>\n",
       "      <th>1</th>\n",
       "      <td>2</td>\n",
       "      <td>0</td>\n",
       "      <td>46</td>\n",
       "      <td>2.0</td>\n",
       "      <td>0</td>\n",
       "      <td>0.0</td>\n",
       "      <td>0.0</td>\n",
       "      <td>0</td>\n",
       "      <td>0</td>\n",
       "      <td>0</td>\n",
       "      <td>250.0</td>\n",
       "      <td>121.0</td>\n",
       "      <td>81.0</td>\n",
       "      <td>28.73</td>\n",
       "      <td>95.0</td>\n",
       "      <td>76.0</td>\n",
       "      <td>0</td>\n",
       "    </tr>\n",
       "    <tr>\n",
       "      <th>2</th>\n",
       "      <td>3</td>\n",
       "      <td>1</td>\n",
       "      <td>48</td>\n",
       "      <td>1.0</td>\n",
       "      <td>1</td>\n",
       "      <td>20.0</td>\n",
       "      <td>0.0</td>\n",
       "      <td>0</td>\n",
       "      <td>0</td>\n",
       "      <td>0</td>\n",
       "      <td>245.0</td>\n",
       "      <td>127.5</td>\n",
       "      <td>80.0</td>\n",
       "      <td>25.34</td>\n",
       "      <td>75.0</td>\n",
       "      <td>70.0</td>\n",
       "      <td>0</td>\n",
       "    </tr>\n",
       "    <tr>\n",
       "      <th>3</th>\n",
       "      <td>4</td>\n",
       "      <td>0</td>\n",
       "      <td>61</td>\n",
       "      <td>3.0</td>\n",
       "      <td>1</td>\n",
       "      <td>30.0</td>\n",
       "      <td>0.0</td>\n",
       "      <td>0</td>\n",
       "      <td>1</td>\n",
       "      <td>0</td>\n",
       "      <td>225.0</td>\n",
       "      <td>150.0</td>\n",
       "      <td>95.0</td>\n",
       "      <td>28.58</td>\n",
       "      <td>65.0</td>\n",
       "      <td>103.0</td>\n",
       "      <td>1</td>\n",
       "    </tr>\n",
       "    <tr>\n",
       "      <th>4</th>\n",
       "      <td>5</td>\n",
       "      <td>0</td>\n",
       "      <td>46</td>\n",
       "      <td>3.0</td>\n",
       "      <td>1</td>\n",
       "      <td>23.0</td>\n",
       "      <td>0.0</td>\n",
       "      <td>0</td>\n",
       "      <td>0</td>\n",
       "      <td>0</td>\n",
       "      <td>285.0</td>\n",
       "      <td>130.0</td>\n",
       "      <td>84.0</td>\n",
       "      <td>23.10</td>\n",
       "      <td>85.0</td>\n",
       "      <td>85.0</td>\n",
       "      <td>0</td>\n",
       "    </tr>\n",
       "  </tbody>\n",
       "</table>\n",
       "</div>"
      ],
      "text/plain": [
       "   ID  male  age  education  currentSmoker  cigsPerDay  BPMeds  \\\n",
       "0   1     1   39        4.0              0         0.0     0.0   \n",
       "1   2     0   46        2.0              0         0.0     0.0   \n",
       "2   3     1   48        1.0              1        20.0     0.0   \n",
       "3   4     0   61        3.0              1        30.0     0.0   \n",
       "4   5     0   46        3.0              1        23.0     0.0   \n",
       "\n",
       "   prevalentStroke  prevalentHyp  diabetes  totChol  sysBP  diaBP    BMI  \\\n",
       "0                0             0         0    195.0  106.0   70.0  26.97   \n",
       "1                0             0         0    250.0  121.0   81.0  28.73   \n",
       "2                0             0         0    245.0  127.5   80.0  25.34   \n",
       "3                0             1         0    225.0  150.0   95.0  28.58   \n",
       "4                0             0         0    285.0  130.0   84.0  23.10   \n",
       "\n",
       "   heartRate  glucose  TenYearCHD  \n",
       "0       80.0     77.0           0  \n",
       "1       95.0     76.0           0  \n",
       "2       75.0     70.0           0  \n",
       "3       65.0    103.0           1  \n",
       "4       85.0     85.0           0  "
      ]
     },
     "execution_count": 2,
     "metadata": {},
     "output_type": "execute_result"
    }
   ],
   "source": [
    "#Reading the Dataset\n",
    "\n",
    "df = pd.read_csv('framingham.csv')\n",
    "df.head()"
   ]
  },
  {
   "cell_type": "code",
   "execution_count": 3,
   "id": "2536dcfd",
   "metadata": {},
   "outputs": [
    {
     "name": "stdout",
     "output_type": "stream",
     "text": [
      "No. of Records : 4240 \n",
      "No. of Features :  17\n"
     ]
    }
   ],
   "source": [
    "#Shape of dataset\n",
    "\n",
    "print ('No. of Records :', df.shape[0], '\\nNo. of Features : ', df.shape[1])"
   ]
  },
  {
   "cell_type": "code",
   "execution_count": 4,
   "id": "3cb74001",
   "metadata": {},
   "outputs": [
    {
     "name": "stdout",
     "output_type": "stream",
     "text": [
      "<class 'pandas.core.frame.DataFrame'>\n",
      "RangeIndex: 4240 entries, 0 to 4239\n",
      "Data columns (total 17 columns):\n",
      " #   Column           Non-Null Count  Dtype  \n",
      "---  ------           --------------  -----  \n",
      " 0   ID               4240 non-null   int64  \n",
      " 1   male             4240 non-null   int64  \n",
      " 2   age              4240 non-null   int64  \n",
      " 3   education        4135 non-null   float64\n",
      " 4   currentSmoker    4240 non-null   int64  \n",
      " 5   cigsPerDay       4211 non-null   float64\n",
      " 6   BPMeds           4187 non-null   float64\n",
      " 7   prevalentStroke  4240 non-null   int64  \n",
      " 8   prevalentHyp     4240 non-null   int64  \n",
      " 9   diabetes         4240 non-null   int64  \n",
      " 10  totChol          4190 non-null   float64\n",
      " 11  sysBP            4240 non-null   float64\n",
      " 12  diaBP            4240 non-null   float64\n",
      " 13  BMI              4221 non-null   float64\n",
      " 14  heartRate        4239 non-null   float64\n",
      " 15  glucose          3852 non-null   float64\n",
      " 16  TenYearCHD       4240 non-null   int64  \n",
      "dtypes: float64(9), int64(8)\n",
      "memory usage: 563.2 KB\n"
     ]
    }
   ],
   "source": [
    "#Check datset's attribute info\n",
    "df.info()"
   ]
  },
  {
   "cell_type": "code",
   "execution_count": 5,
   "id": "5217cd4b",
   "metadata": {},
   "outputs": [
    {
     "data": {
      "text/html": [
       "<div>\n",
       "<style scoped>\n",
       "    .dataframe tbody tr th:only-of-type {\n",
       "        vertical-align: middle;\n",
       "    }\n",
       "\n",
       "    .dataframe tbody tr th {\n",
       "        vertical-align: top;\n",
       "    }\n",
       "\n",
       "    .dataframe thead th {\n",
       "        text-align: right;\n",
       "    }\n",
       "</style>\n",
       "<table border=\"1\" class=\"dataframe\">\n",
       "  <thead>\n",
       "    <tr style=\"text-align: right;\">\n",
       "      <th></th>\n",
       "      <th>ID</th>\n",
       "      <th>male</th>\n",
       "      <th>age</th>\n",
       "      <th>education</th>\n",
       "      <th>currentSmoker</th>\n",
       "      <th>cigsPerDay</th>\n",
       "      <th>BPMeds</th>\n",
       "      <th>prevalentStroke</th>\n",
       "      <th>prevalentHyp</th>\n",
       "      <th>diabetes</th>\n",
       "      <th>totChol</th>\n",
       "      <th>sysBP</th>\n",
       "      <th>diaBP</th>\n",
       "      <th>BMI</th>\n",
       "      <th>heartRate</th>\n",
       "      <th>glucose</th>\n",
       "      <th>TenYearCHD</th>\n",
       "    </tr>\n",
       "  </thead>\n",
       "  <tbody>\n",
       "    <tr>\n",
       "      <th>count</th>\n",
       "      <td>4240.0000</td>\n",
       "      <td>4240.000000</td>\n",
       "      <td>4240.000000</td>\n",
       "      <td>4135.000000</td>\n",
       "      <td>4240.000000</td>\n",
       "      <td>4211.000000</td>\n",
       "      <td>4187.000000</td>\n",
       "      <td>4240.000000</td>\n",
       "      <td>4240.000000</td>\n",
       "      <td>4240.000000</td>\n",
       "      <td>4190.000000</td>\n",
       "      <td>4240.000000</td>\n",
       "      <td>4240.000000</td>\n",
       "      <td>4221.000000</td>\n",
       "      <td>4239.000000</td>\n",
       "      <td>3852.000000</td>\n",
       "      <td>4240.000000</td>\n",
       "    </tr>\n",
       "    <tr>\n",
       "      <th>mean</th>\n",
       "      <td>2120.5000</td>\n",
       "      <td>0.429245</td>\n",
       "      <td>49.580189</td>\n",
       "      <td>1.979444</td>\n",
       "      <td>0.494104</td>\n",
       "      <td>9.005937</td>\n",
       "      <td>0.029615</td>\n",
       "      <td>0.005896</td>\n",
       "      <td>0.310613</td>\n",
       "      <td>0.025708</td>\n",
       "      <td>236.699523</td>\n",
       "      <td>132.354599</td>\n",
       "      <td>82.897759</td>\n",
       "      <td>25.800801</td>\n",
       "      <td>75.878981</td>\n",
       "      <td>81.963655</td>\n",
       "      <td>0.151887</td>\n",
       "    </tr>\n",
       "    <tr>\n",
       "      <th>std</th>\n",
       "      <td>1224.1269</td>\n",
       "      <td>0.495027</td>\n",
       "      <td>8.572942</td>\n",
       "      <td>1.019791</td>\n",
       "      <td>0.500024</td>\n",
       "      <td>11.922462</td>\n",
       "      <td>0.169544</td>\n",
       "      <td>0.076569</td>\n",
       "      <td>0.462799</td>\n",
       "      <td>0.158280</td>\n",
       "      <td>44.591284</td>\n",
       "      <td>22.033300</td>\n",
       "      <td>11.910394</td>\n",
       "      <td>4.079840</td>\n",
       "      <td>12.025348</td>\n",
       "      <td>23.954335</td>\n",
       "      <td>0.358953</td>\n",
       "    </tr>\n",
       "    <tr>\n",
       "      <th>min</th>\n",
       "      <td>1.0000</td>\n",
       "      <td>0.000000</td>\n",
       "      <td>32.000000</td>\n",
       "      <td>1.000000</td>\n",
       "      <td>0.000000</td>\n",
       "      <td>0.000000</td>\n",
       "      <td>0.000000</td>\n",
       "      <td>0.000000</td>\n",
       "      <td>0.000000</td>\n",
       "      <td>0.000000</td>\n",
       "      <td>107.000000</td>\n",
       "      <td>83.500000</td>\n",
       "      <td>48.000000</td>\n",
       "      <td>15.540000</td>\n",
       "      <td>44.000000</td>\n",
       "      <td>40.000000</td>\n",
       "      <td>0.000000</td>\n",
       "    </tr>\n",
       "    <tr>\n",
       "      <th>25%</th>\n",
       "      <td>1060.7500</td>\n",
       "      <td>0.000000</td>\n",
       "      <td>42.000000</td>\n",
       "      <td>1.000000</td>\n",
       "      <td>0.000000</td>\n",
       "      <td>0.000000</td>\n",
       "      <td>0.000000</td>\n",
       "      <td>0.000000</td>\n",
       "      <td>0.000000</td>\n",
       "      <td>0.000000</td>\n",
       "      <td>206.000000</td>\n",
       "      <td>117.000000</td>\n",
       "      <td>75.000000</td>\n",
       "      <td>23.070000</td>\n",
       "      <td>68.000000</td>\n",
       "      <td>71.000000</td>\n",
       "      <td>0.000000</td>\n",
       "    </tr>\n",
       "    <tr>\n",
       "      <th>50%</th>\n",
       "      <td>2120.5000</td>\n",
       "      <td>0.000000</td>\n",
       "      <td>49.000000</td>\n",
       "      <td>2.000000</td>\n",
       "      <td>0.000000</td>\n",
       "      <td>0.000000</td>\n",
       "      <td>0.000000</td>\n",
       "      <td>0.000000</td>\n",
       "      <td>0.000000</td>\n",
       "      <td>0.000000</td>\n",
       "      <td>234.000000</td>\n",
       "      <td>128.000000</td>\n",
       "      <td>82.000000</td>\n",
       "      <td>25.400000</td>\n",
       "      <td>75.000000</td>\n",
       "      <td>78.000000</td>\n",
       "      <td>0.000000</td>\n",
       "    </tr>\n",
       "    <tr>\n",
       "      <th>75%</th>\n",
       "      <td>3180.2500</td>\n",
       "      <td>1.000000</td>\n",
       "      <td>56.000000</td>\n",
       "      <td>3.000000</td>\n",
       "      <td>1.000000</td>\n",
       "      <td>20.000000</td>\n",
       "      <td>0.000000</td>\n",
       "      <td>0.000000</td>\n",
       "      <td>1.000000</td>\n",
       "      <td>0.000000</td>\n",
       "      <td>263.000000</td>\n",
       "      <td>144.000000</td>\n",
       "      <td>90.000000</td>\n",
       "      <td>28.040000</td>\n",
       "      <td>83.000000</td>\n",
       "      <td>87.000000</td>\n",
       "      <td>0.000000</td>\n",
       "    </tr>\n",
       "    <tr>\n",
       "      <th>max</th>\n",
       "      <td>4240.0000</td>\n",
       "      <td>1.000000</td>\n",
       "      <td>70.000000</td>\n",
       "      <td>4.000000</td>\n",
       "      <td>1.000000</td>\n",
       "      <td>70.000000</td>\n",
       "      <td>1.000000</td>\n",
       "      <td>1.000000</td>\n",
       "      <td>1.000000</td>\n",
       "      <td>1.000000</td>\n",
       "      <td>696.000000</td>\n",
       "      <td>295.000000</td>\n",
       "      <td>142.500000</td>\n",
       "      <td>56.800000</td>\n",
       "      <td>143.000000</td>\n",
       "      <td>394.000000</td>\n",
       "      <td>1.000000</td>\n",
       "    </tr>\n",
       "  </tbody>\n",
       "</table>\n",
       "</div>"
      ],
      "text/plain": [
       "              ID         male          age    education  currentSmoker  \\\n",
       "count  4240.0000  4240.000000  4240.000000  4135.000000    4240.000000   \n",
       "mean   2120.5000     0.429245    49.580189     1.979444       0.494104   \n",
       "std    1224.1269     0.495027     8.572942     1.019791       0.500024   \n",
       "min       1.0000     0.000000    32.000000     1.000000       0.000000   \n",
       "25%    1060.7500     0.000000    42.000000     1.000000       0.000000   \n",
       "50%    2120.5000     0.000000    49.000000     2.000000       0.000000   \n",
       "75%    3180.2500     1.000000    56.000000     3.000000       1.000000   \n",
       "max    4240.0000     1.000000    70.000000     4.000000       1.000000   \n",
       "\n",
       "        cigsPerDay       BPMeds  prevalentStroke  prevalentHyp     diabetes  \\\n",
       "count  4211.000000  4187.000000      4240.000000   4240.000000  4240.000000   \n",
       "mean      9.005937     0.029615         0.005896      0.310613     0.025708   \n",
       "std      11.922462     0.169544         0.076569      0.462799     0.158280   \n",
       "min       0.000000     0.000000         0.000000      0.000000     0.000000   \n",
       "25%       0.000000     0.000000         0.000000      0.000000     0.000000   \n",
       "50%       0.000000     0.000000         0.000000      0.000000     0.000000   \n",
       "75%      20.000000     0.000000         0.000000      1.000000     0.000000   \n",
       "max      70.000000     1.000000         1.000000      1.000000     1.000000   \n",
       "\n",
       "           totChol        sysBP        diaBP          BMI    heartRate  \\\n",
       "count  4190.000000  4240.000000  4240.000000  4221.000000  4239.000000   \n",
       "mean    236.699523   132.354599    82.897759    25.800801    75.878981   \n",
       "std      44.591284    22.033300    11.910394     4.079840    12.025348   \n",
       "min     107.000000    83.500000    48.000000    15.540000    44.000000   \n",
       "25%     206.000000   117.000000    75.000000    23.070000    68.000000   \n",
       "50%     234.000000   128.000000    82.000000    25.400000    75.000000   \n",
       "75%     263.000000   144.000000    90.000000    28.040000    83.000000   \n",
       "max     696.000000   295.000000   142.500000    56.800000   143.000000   \n",
       "\n",
       "           glucose   TenYearCHD  \n",
       "count  3852.000000  4240.000000  \n",
       "mean     81.963655     0.151887  \n",
       "std      23.954335     0.358953  \n",
       "min      40.000000     0.000000  \n",
       "25%      71.000000     0.000000  \n",
       "50%      78.000000     0.000000  \n",
       "75%      87.000000     0.000000  \n",
       "max     394.000000     1.000000  "
      ]
     },
     "execution_count": 5,
     "metadata": {},
     "output_type": "execute_result"
    }
   ],
   "source": [
    "# Dataframe description\n",
    "df.describe()"
   ]
  },
  {
   "cell_type": "code",
   "execution_count": 6,
   "id": "990f698f",
   "metadata": {},
   "outputs": [
    {
     "data": {
      "text/plain": [
       "ID                   0\n",
       "male                 0\n",
       "age                  0\n",
       "education          105\n",
       "currentSmoker        0\n",
       "cigsPerDay          29\n",
       "BPMeds              53\n",
       "prevalentStroke      0\n",
       "prevalentHyp         0\n",
       "diabetes             0\n",
       "totChol             50\n",
       "sysBP                0\n",
       "diaBP                0\n",
       "BMI                 19\n",
       "heartRate            1\n",
       "glucose            388\n",
       "TenYearCHD           0\n",
       "dtype: int64"
      ]
     },
     "execution_count": 6,
     "metadata": {},
     "output_type": "execute_result"
    }
   ],
   "source": [
    "#Examining Null values in each feature\n",
    "df.isnull().sum()"
   ]
  },
  {
   "cell_type": "code",
   "execution_count": 7,
   "id": "7e3ca096",
   "metadata": {},
   "outputs": [
    {
     "data": {
      "text/plain": [
       "ID                 0.000000\n",
       "male               0.000000\n",
       "age                0.000000\n",
       "education          2.476415\n",
       "currentSmoker      0.000000\n",
       "cigsPerDay         0.683962\n",
       "BPMeds             1.250000\n",
       "prevalentStroke    0.000000\n",
       "prevalentHyp       0.000000\n",
       "diabetes           0.000000\n",
       "totChol            1.179245\n",
       "sysBP              0.000000\n",
       "diaBP              0.000000\n",
       "BMI                0.448113\n",
       "heartRate          0.023585\n",
       "glucose            9.150943\n",
       "TenYearCHD         0.000000\n",
       "dtype: float64"
      ]
     },
     "execution_count": 7,
     "metadata": {},
     "output_type": "execute_result"
    }
   ],
   "source": [
    "#%percentage of null values in dataset\n",
    "df.isnull().sum() / df.shape[0] * 100"
   ]
  },
  {
   "cell_type": "code",
   "execution_count": 8,
   "id": "e5503a40",
   "metadata": {},
   "outputs": [
    {
     "data": {
      "text/plain": [
       "Text(0.5, 1.0, 'Correlation between different fearures')"
      ]
     },
     "execution_count": 8,
     "metadata": {},
     "output_type": "execute_result"
    }
   ],
   "source": [
    "## Checking the Pearson correlation between output and input fields through a heatmap by the help of correlation function\n",
    "correlation = df.corr()\n",
    "plt.figure(figsize=(14,14))\n",
    "g = sns.heatmap(correlation, vmax=1, square=True,cmap='coolwarm',annot= True,xticklabels=True,yticklabels=True, fmt='.1g')\n",
    "g.set_yticklabels(g.get_yticklabels(), rotation =0)\n",
    "g.set_xticklabels(g.get_yticklabels(), rotation =90)\n",
    "plt.title('Correlation between different fearures')"
   ]
  },
  {
   "cell_type": "code",
   "execution_count": 9,
   "id": "71637fc8",
   "metadata": {},
   "outputs": [],
   "source": [
    "#User defined function for missing value imputation\n",
    "def impute_median(data):\n",
    "    return data.fillna(data.median())"
   ]
  },
  {
   "cell_type": "code",
   "execution_count": 10,
   "id": "67bab3b0",
   "metadata": {},
   "outputs": [],
   "source": [
    "#median imputation\n",
    "\n",
    "df.glucose = df['glucose'].transform(impute_median)\n",
    "df.education = df['education'].transform(impute_median)\n",
    "df.heartRate = df['heartRate'].transform(impute_median)\n",
    "df.totChol = df['totChol'].transform(impute_median)\n",
    "df.BPMeds = df['BPMeds'].transform(impute_median)\n",
    "\n",
    "## group by classes that are in relation with other classes\n",
    "\n",
    "by_currentSmoker = df.groupby(['currentSmoker'])\n",
    "df.cigsPerDay = by_currentSmoker['cigsPerDay'].transform(impute_median)\n",
    "\n",
    "by_age = df.groupby(['male','age'])\n",
    "df.BMI = by_age['BMI'].transform(impute_median)"
   ]
  },
  {
   "cell_type": "code",
   "execution_count": 11,
   "id": "a82b3f21",
   "metadata": {},
   "outputs": [
    {
     "data": {
      "text/plain": [
       "ID                 0\n",
       "male               0\n",
       "age                0\n",
       "education          0\n",
       "currentSmoker      0\n",
       "cigsPerDay         0\n",
       "BPMeds             0\n",
       "prevalentStroke    0\n",
       "prevalentHyp       0\n",
       "diabetes           0\n",
       "totChol            0\n",
       "sysBP              0\n",
       "diaBP              0\n",
       "BMI                0\n",
       "heartRate          0\n",
       "glucose            0\n",
       "TenYearCHD         0\n",
       "dtype: int64"
      ]
     },
     "execution_count": 11,
     "metadata": {},
     "output_type": "execute_result"
    }
   ],
   "source": [
    "#Rechecking if we have any missing value left\n",
    "df.isnull().sum()"
   ]
  },
  {
   "cell_type": "code",
   "execution_count": 12,
   "id": "91804b52",
   "metadata": {},
   "outputs": [
    {
     "data": {
      "text/html": [
       "<div>\n",
       "<style scoped>\n",
       "    .dataframe tbody tr th:only-of-type {\n",
       "        vertical-align: middle;\n",
       "    }\n",
       "\n",
       "    .dataframe tbody tr th {\n",
       "        vertical-align: top;\n",
       "    }\n",
       "\n",
       "    .dataframe thead th {\n",
       "        text-align: right;\n",
       "    }\n",
       "</style>\n",
       "<table border=\"1\" class=\"dataframe\">\n",
       "  <thead>\n",
       "    <tr style=\"text-align: right;\">\n",
       "      <th></th>\n",
       "      <th>ID</th>\n",
       "      <th>male</th>\n",
       "      <th>age</th>\n",
       "      <th>education</th>\n",
       "      <th>currentSmoker</th>\n",
       "      <th>cigsPerDay</th>\n",
       "      <th>BPMeds</th>\n",
       "      <th>prevalentStroke</th>\n",
       "      <th>prevalentHyp</th>\n",
       "      <th>diabetes</th>\n",
       "      <th>totChol</th>\n",
       "      <th>sysBP</th>\n",
       "      <th>diaBP</th>\n",
       "      <th>BMI</th>\n",
       "      <th>heartRate</th>\n",
       "      <th>glucose</th>\n",
       "      <th>TenYearCHD</th>\n",
       "    </tr>\n",
       "  </thead>\n",
       "  <tbody>\n",
       "    <tr>\n",
       "      <th>count</th>\n",
       "      <td>4240.0000</td>\n",
       "      <td>4240.000000</td>\n",
       "      <td>4240.000000</td>\n",
       "      <td>4240.000000</td>\n",
       "      <td>4240.000000</td>\n",
       "      <td>4240.000000</td>\n",
       "      <td>4240.000000</td>\n",
       "      <td>4240.000000</td>\n",
       "      <td>4240.000000</td>\n",
       "      <td>4240.000000</td>\n",
       "      <td>4240.000000</td>\n",
       "      <td>4240.000000</td>\n",
       "      <td>4240.000000</td>\n",
       "      <td>4240.000000</td>\n",
       "      <td>4240.000000</td>\n",
       "      <td>4240.000000</td>\n",
       "      <td>4240.000000</td>\n",
       "    </tr>\n",
       "    <tr>\n",
       "      <th>mean</th>\n",
       "      <td>2120.5000</td>\n",
       "      <td>0.429245</td>\n",
       "      <td>49.580189</td>\n",
       "      <td>1.979953</td>\n",
       "      <td>0.494104</td>\n",
       "      <td>9.081132</td>\n",
       "      <td>0.029245</td>\n",
       "      <td>0.005896</td>\n",
       "      <td>0.310613</td>\n",
       "      <td>0.025708</td>\n",
       "      <td>236.667689</td>\n",
       "      <td>132.354599</td>\n",
       "      <td>82.897759</td>\n",
       "      <td>25.798756</td>\n",
       "      <td>75.878774</td>\n",
       "      <td>81.600943</td>\n",
       "      <td>0.151887</td>\n",
       "    </tr>\n",
       "    <tr>\n",
       "      <th>std</th>\n",
       "      <td>1224.1269</td>\n",
       "      <td>0.495027</td>\n",
       "      <td>8.572942</td>\n",
       "      <td>1.007087</td>\n",
       "      <td>0.500024</td>\n",
       "      <td>11.916119</td>\n",
       "      <td>0.168513</td>\n",
       "      <td>0.076569</td>\n",
       "      <td>0.462799</td>\n",
       "      <td>0.158280</td>\n",
       "      <td>44.328480</td>\n",
       "      <td>22.033300</td>\n",
       "      <td>11.910394</td>\n",
       "      <td>4.072774</td>\n",
       "      <td>12.023937</td>\n",
       "      <td>22.860340</td>\n",
       "      <td>0.358953</td>\n",
       "    </tr>\n",
       "    <tr>\n",
       "      <th>min</th>\n",
       "      <td>1.0000</td>\n",
       "      <td>0.000000</td>\n",
       "      <td>32.000000</td>\n",
       "      <td>1.000000</td>\n",
       "      <td>0.000000</td>\n",
       "      <td>0.000000</td>\n",
       "      <td>0.000000</td>\n",
       "      <td>0.000000</td>\n",
       "      <td>0.000000</td>\n",
       "      <td>0.000000</td>\n",
       "      <td>107.000000</td>\n",
       "      <td>83.500000</td>\n",
       "      <td>48.000000</td>\n",
       "      <td>15.540000</td>\n",
       "      <td>44.000000</td>\n",
       "      <td>40.000000</td>\n",
       "      <td>0.000000</td>\n",
       "    </tr>\n",
       "    <tr>\n",
       "      <th>25%</th>\n",
       "      <td>1060.7500</td>\n",
       "      <td>0.000000</td>\n",
       "      <td>42.000000</td>\n",
       "      <td>1.000000</td>\n",
       "      <td>0.000000</td>\n",
       "      <td>0.000000</td>\n",
       "      <td>0.000000</td>\n",
       "      <td>0.000000</td>\n",
       "      <td>0.000000</td>\n",
       "      <td>0.000000</td>\n",
       "      <td>206.000000</td>\n",
       "      <td>117.000000</td>\n",
       "      <td>75.000000</td>\n",
       "      <td>23.077500</td>\n",
       "      <td>68.000000</td>\n",
       "      <td>72.000000</td>\n",
       "      <td>0.000000</td>\n",
       "    </tr>\n",
       "    <tr>\n",
       "      <th>50%</th>\n",
       "      <td>2120.5000</td>\n",
       "      <td>0.000000</td>\n",
       "      <td>49.000000</td>\n",
       "      <td>2.000000</td>\n",
       "      <td>0.000000</td>\n",
       "      <td>0.000000</td>\n",
       "      <td>0.000000</td>\n",
       "      <td>0.000000</td>\n",
       "      <td>0.000000</td>\n",
       "      <td>0.000000</td>\n",
       "      <td>234.000000</td>\n",
       "      <td>128.000000</td>\n",
       "      <td>82.000000</td>\n",
       "      <td>25.397500</td>\n",
       "      <td>75.000000</td>\n",
       "      <td>78.000000</td>\n",
       "      <td>0.000000</td>\n",
       "    </tr>\n",
       "    <tr>\n",
       "      <th>75%</th>\n",
       "      <td>3180.2500</td>\n",
       "      <td>1.000000</td>\n",
       "      <td>56.000000</td>\n",
       "      <td>3.000000</td>\n",
       "      <td>1.000000</td>\n",
       "      <td>20.000000</td>\n",
       "      <td>0.000000</td>\n",
       "      <td>0.000000</td>\n",
       "      <td>1.000000</td>\n",
       "      <td>0.000000</td>\n",
       "      <td>262.000000</td>\n",
       "      <td>144.000000</td>\n",
       "      <td>90.000000</td>\n",
       "      <td>28.040000</td>\n",
       "      <td>83.000000</td>\n",
       "      <td>85.000000</td>\n",
       "      <td>0.000000</td>\n",
       "    </tr>\n",
       "    <tr>\n",
       "      <th>max</th>\n",
       "      <td>4240.0000</td>\n",
       "      <td>1.000000</td>\n",
       "      <td>70.000000</td>\n",
       "      <td>4.000000</td>\n",
       "      <td>1.000000</td>\n",
       "      <td>70.000000</td>\n",
       "      <td>1.000000</td>\n",
       "      <td>1.000000</td>\n",
       "      <td>1.000000</td>\n",
       "      <td>1.000000</td>\n",
       "      <td>696.000000</td>\n",
       "      <td>295.000000</td>\n",
       "      <td>142.500000</td>\n",
       "      <td>56.800000</td>\n",
       "      <td>143.000000</td>\n",
       "      <td>394.000000</td>\n",
       "      <td>1.000000</td>\n",
       "    </tr>\n",
       "  </tbody>\n",
       "</table>\n",
       "</div>"
      ],
      "text/plain": [
       "              ID         male          age    education  currentSmoker  \\\n",
       "count  4240.0000  4240.000000  4240.000000  4240.000000    4240.000000   \n",
       "mean   2120.5000     0.429245    49.580189     1.979953       0.494104   \n",
       "std    1224.1269     0.495027     8.572942     1.007087       0.500024   \n",
       "min       1.0000     0.000000    32.000000     1.000000       0.000000   \n",
       "25%    1060.7500     0.000000    42.000000     1.000000       0.000000   \n",
       "50%    2120.5000     0.000000    49.000000     2.000000       0.000000   \n",
       "75%    3180.2500     1.000000    56.000000     3.000000       1.000000   \n",
       "max    4240.0000     1.000000    70.000000     4.000000       1.000000   \n",
       "\n",
       "        cigsPerDay       BPMeds  prevalentStroke  prevalentHyp     diabetes  \\\n",
       "count  4240.000000  4240.000000      4240.000000   4240.000000  4240.000000   \n",
       "mean      9.081132     0.029245         0.005896      0.310613     0.025708   \n",
       "std      11.916119     0.168513         0.076569      0.462799     0.158280   \n",
       "min       0.000000     0.000000         0.000000      0.000000     0.000000   \n",
       "25%       0.000000     0.000000         0.000000      0.000000     0.000000   \n",
       "50%       0.000000     0.000000         0.000000      0.000000     0.000000   \n",
       "75%      20.000000     0.000000         0.000000      1.000000     0.000000   \n",
       "max      70.000000     1.000000         1.000000      1.000000     1.000000   \n",
       "\n",
       "           totChol        sysBP        diaBP          BMI    heartRate  \\\n",
       "count  4240.000000  4240.000000  4240.000000  4240.000000  4240.000000   \n",
       "mean    236.667689   132.354599    82.897759    25.798756    75.878774   \n",
       "std      44.328480    22.033300    11.910394     4.072774    12.023937   \n",
       "min     107.000000    83.500000    48.000000    15.540000    44.000000   \n",
       "25%     206.000000   117.000000    75.000000    23.077500    68.000000   \n",
       "50%     234.000000   128.000000    82.000000    25.397500    75.000000   \n",
       "75%     262.000000   144.000000    90.000000    28.040000    83.000000   \n",
       "max     696.000000   295.000000   142.500000    56.800000   143.000000   \n",
       "\n",
       "           glucose   TenYearCHD  \n",
       "count  4240.000000  4240.000000  \n",
       "mean     81.600943     0.151887  \n",
       "std      22.860340     0.358953  \n",
       "min      40.000000     0.000000  \n",
       "25%      72.000000     0.000000  \n",
       "50%      78.000000     0.000000  \n",
       "75%      85.000000     0.000000  \n",
       "max     394.000000     1.000000  "
      ]
     },
     "execution_count": 12,
     "metadata": {},
     "output_type": "execute_result"
    }
   ],
   "source": [
    "#Descriptive Stats\n",
    "df.describe()"
   ]
  },
  {
   "cell_type": "code",
   "execution_count": 13,
   "id": "63598045",
   "metadata": {},
   "outputs": [
    {
     "name": "stderr",
     "output_type": "stream",
     "text": [
      "C:\\Users\\Sajedeh\\anaconda3\\lib\\site-packages\\seaborn\\categorical.py:3747: UserWarning: The `size` parameter has been renamed to `height`; please update your code.\n",
      "  warnings.warn(msg, UserWarning)\n"
     ]
    },
    {
     "data": {
      "text/plain": [
       "Text(0.5, 1.0, 'CHD by Gender')"
      ]
     },
     "execution_count": 13,
     "metadata": {},
     "output_type": "execute_result"
    }
   ],
   "source": [
    "#CHD by Gender Viz.\n",
    "\n",
    "sns.catplot(x='male', hue='TenYearCHD', data=df, kind='count', palette='Dark2', size=6, legend=False)\n",
    "plt.xlabel('Gender')\n",
    "plt.xticks(ticks=[0,1], labels=['Female', 'Male'])\n",
    "plt.ylabel('No. of Patients')\n",
    "plt.legend(['Neg.', 'Pos.'])\n",
    "plt.title('CHD by Gender')"
   ]
  },
  {
   "cell_type": "code",
   "execution_count": 14,
   "id": "95448089",
   "metadata": {},
   "outputs": [
    {
     "name": "stderr",
     "output_type": "stream",
     "text": [
      "C:\\Users\\Sajedeh\\anaconda3\\lib\\site-packages\\seaborn\\distributions.py:2557: FutureWarning: `distplot` is a deprecated function and will be removed in a future version. Please adapt your code to use either `displot` (a figure-level function with similar flexibility) or `histplot` (an axes-level function for histograms).\n",
      "  warnings.warn(msg, FutureWarning)\n",
      "C:\\Users\\Sajedeh\\anaconda3\\lib\\site-packages\\seaborn\\distributions.py:2557: FutureWarning: `distplot` is a deprecated function and will be removed in a future version. Please adapt your code to use either `displot` (a figure-level function with similar flexibility) or `histplot` (an axes-level function for histograms).\n",
      "  warnings.warn(msg, FutureWarning)\n",
      "C:\\Users\\Sajedeh\\anaconda3\\lib\\site-packages\\seaborn\\distributions.py:2557: FutureWarning: `distplot` is a deprecated function and will be removed in a future version. Please adapt your code to use either `displot` (a figure-level function with similar flexibility) or `histplot` (an axes-level function for histograms).\n",
      "  warnings.warn(msg, FutureWarning)\n",
      "C:\\Users\\Sajedeh\\anaconda3\\lib\\site-packages\\seaborn\\distributions.py:2557: FutureWarning: `distplot` is a deprecated function and will be removed in a future version. Please adapt your code to use either `displot` (a figure-level function with similar flexibility) or `histplot` (an axes-level function for histograms).\n",
      "  warnings.warn(msg, FutureWarning)\n",
      "C:\\Users\\Sajedeh\\anaconda3\\lib\\site-packages\\seaborn\\distributions.py:2557: FutureWarning: `distplot` is a deprecated function and will be removed in a future version. Please adapt your code to use either `displot` (a figure-level function with similar flexibility) or `histplot` (an axes-level function for histograms).\n",
      "  warnings.warn(msg, FutureWarning)\n",
      "C:\\Users\\Sajedeh\\anaconda3\\lib\\site-packages\\seaborn\\distributions.py:2557: FutureWarning: `distplot` is a deprecated function and will be removed in a future version. Please adapt your code to use either `displot` (a figure-level function with similar flexibility) or `histplot` (an axes-level function for histograms).\n",
      "  warnings.warn(msg, FutureWarning)\n"
     ]
    },
    {
     "data": {
      "text/plain": [
       "Text(0.5, 1.0, 'Distribution of HeartRate')"
      ]
     },
     "execution_count": 14,
     "metadata": {},
     "output_type": "execute_result"
    }
   ],
   "source": [
    "#Distribution of Continuous variables\n",
    "\n",
    "plt.figure(figsize=(23,15))\n",
    "plt.subplots_adjust(wspace=0.3, hspace=0.3)\n",
    "\n",
    "plt.subplot(2, 3, 1)\n",
    "sns.distplot(df['glucose'] , color='orange')\n",
    "plt.title('Distribution of Glucose')\n",
    "\n",
    "plt.subplot(2, 3, 2)\n",
    "sns.distplot(df['totChol'], color='g')\n",
    "plt.title('Distribution of Total Cholesterol')\n",
    "\n",
    "plt.subplot(2, 3, 3)\n",
    "sns.distplot(df['sysBP'], color='r')\n",
    "plt.title('Distribution of Systolic BP')\n",
    "\n",
    "plt.subplot(2, 3, 4)\n",
    "sns.distplot(df['diaBP'] , color='purple')\n",
    "plt.title('Distribution of Dia. BP')\n",
    "\n",
    "plt.subplot(2, 3, 5)\n",
    "sns.distplot(df['BMI'], color='blue')\n",
    "plt.title('Distribution of BMI')\n",
    "\n",
    "plt.subplot(2, 3, 6)\n",
    "sns.distplot(df['heartRate'], color='grey')\n",
    "plt.title('Distribution of HeartRate')"
   ]
  },
  {
   "cell_type": "code",
   "execution_count": 15,
   "id": "507882bc",
   "metadata": {},
   "outputs": [
    {
     "name": "stderr",
     "output_type": "stream",
     "text": [
      "C:\\Users\\Sajedeh\\anaconda3\\lib\\site-packages\\seaborn\\distributions.py:2557: FutureWarning: `distplot` is a deprecated function and will be removed in a future version. Please adapt your code to use either `displot` (a figure-level function with similar flexibility) or `histplot` (an axes-level function for histograms).\n",
      "  warnings.warn(msg, FutureWarning)\n"
     ]
    },
    {
     "data": {
      "text/plain": [
       "Text(0.5, 1.0, 'Agewise distribution of the patients')"
      ]
     },
     "execution_count": 15,
     "metadata": {},
     "output_type": "execute_result"
    }
   ],
   "source": [
    "sns.distplot(df['age'], bins=15, kde=True, color='maroon')\n",
    "plt.ylabel('Count')\n",
    "plt.title('Agewise distribution of the patients')"
   ]
  },
  {
   "cell_type": "code",
   "execution_count": 16,
   "id": "f8697dd3",
   "metadata": {},
   "outputs": [],
   "source": [
    "#User-defined function\n",
    "\n",
    "#Age encoding\n",
    "def encode_age(data):\n",
    "    if data <= 40:\n",
    "        return 0\n",
    "    if data > 40 and data <=55:\n",
    "        return 1\n",
    "    else:\n",
    "        return 2    \n",
    "\n",
    "#heart rate encoder\n",
    "def heartrate_enc(data):\n",
    "    if data <= 60:\n",
    "        return 0\n",
    "    if data > 60 and data <=100:\n",
    "        return 1\n",
    "    else:\n",
    "        return 2\n",
    "\n",
    "#applying functions\n",
    "df['enc_hr'] = df['heartRate'].apply(heartrate_enc)\n",
    "df['encode_age'] = df['age'].apply(lambda x : encode_age(x))"
   ]
  },
  {
   "cell_type": "code",
   "execution_count": 17,
   "id": "08046584",
   "metadata": {},
   "outputs": [
    {
     "name": "stderr",
     "output_type": "stream",
     "text": [
      "C:\\Users\\Sajedeh\\anaconda3\\lib\\site-packages\\seaborn\\_decorators.py:36: FutureWarning: Pass the following variable as a keyword arg: x. From version 0.12, the only valid positional argument will be `data`, and passing other arguments without an explicit keyword will result in an error or misinterpretation.\n",
      "  warnings.warn(\n",
      "C:\\Users\\Sajedeh\\anaconda3\\lib\\site-packages\\seaborn\\_decorators.py:36: FutureWarning: Pass the following variable as a keyword arg: x. From version 0.12, the only valid positional argument will be `data`, and passing other arguments without an explicit keyword will result in an error or misinterpretation.\n",
      "  warnings.warn(\n"
     ]
    },
    {
     "data": {
      "text/plain": [
       "Text(0.5, 1.0, 'Count by Age Group')"
      ]
     },
     "execution_count": 17,
     "metadata": {},
     "output_type": "execute_result"
    }
   ],
   "source": [
    "#HeartRate (Grouped) Count\n",
    "\n",
    "plt.figure(figsize=(20,8))\n",
    "plt.subplots_adjust(wspace=0.3, hspace=0.3)\n",
    "\n",
    "plt.subplot(1, 2, 1)\n",
    "sns.countplot(df['enc_hr'], palette='Wistia')\n",
    "plt.title('HeartRate (Grouped)')\n",
    "plt.xticks([0,1,2], ['Low', 'Normal', 'High'])\n",
    "\n",
    "plt.subplot(1, 2, 2)\n",
    "sns.countplot(df['encode_age'])\n",
    "plt.xlabel('Age Group')\n",
    "plt.xticks(ticks=[0,1,2], labels=['Adults', 'Middle-Aged', 'Senior'])\n",
    "plt.title('Count by Age Group')"
   ]
  },
  {
   "cell_type": "code",
   "execution_count": 18,
   "id": "c61a3b75",
   "metadata": {},
   "outputs": [
    {
     "data": {
      "text/plain": [
       "<matplotlib.legend.Legend at 0x1d92d6f2670>"
      ]
     },
     "execution_count": 18,
     "metadata": {},
     "output_type": "execute_result"
    }
   ],
   "source": [
    "#Multivariate Analysis Pt. 2\n",
    "\n",
    "plt.figure(figsize=(23,8))\n",
    "plt.subplots_adjust(wspace=0.2, hspace=0.3)\n",
    "\n",
    "plt.subplot(1, 2, 1)\n",
    "sns.boxenplot(x='encode_age', y='sysBP', hue='male', data=df, palette='rainbow')\n",
    "plt.xlabel('Age Group / Gender')\n",
    "plt.ylabel('Sys. BP')\n",
    "plt.xticks(ticks=[0,1,2], labels=['Adults', 'Middle-Aged', 'Senior'])\n",
    "plt.title('Sys. BP by Age Group & Gender')\n",
    "plt.legend(title='Gender')\n",
    "\n",
    "plt.subplot(1, 2, 2)\n",
    "sns.boxenplot(x='encode_age', y='diaBP', hue='male', data=df, palette='pastel')\n",
    "plt.xlabel('Age Group / Gender')\n",
    "plt.ylabel('Dia. BP')\n",
    "plt.xticks(ticks=[0,1,2], labels=['Adults', 'Middle-Aged', 'Senior'])\n",
    "plt.title('Dia. BP Count by Age Group')\n",
    "plt.legend(title='Gender')"
   ]
  },
  {
   "cell_type": "code",
   "execution_count": 19,
   "id": "833e0ebd",
   "metadata": {},
   "outputs": [
    {
     "data": {
      "text/plain": [
       "<matplotlib.legend.Legend at 0x1d92df31250>"
      ]
     },
     "execution_count": 19,
     "metadata": {},
     "output_type": "execute_result"
    }
   ],
   "source": [
    "#Multivariate Analysis Pt. 1\n",
    "\n",
    "plt.figure(figsize=(23,8))\n",
    "plt.subplots_adjust(wspace=0.2, hspace=0.3)\n",
    "\n",
    "plt.subplot(1, 2, 1)\n",
    "sns.boxenplot(x='encode_age', y='glucose', hue='male', data=df, palette='seismic')\n",
    "plt.xlabel('Age Group / Gender')\n",
    "plt.ylabel('Glucose')\n",
    "plt.xticks(ticks=[0,1,2], labels=['Adults', 'Middle-Aged', 'Senior'])\n",
    "plt.title('Glucose Count by Age Group & Gender')\n",
    "plt.legend(title='Gender')\n",
    "\n",
    "plt.subplot(1, 2, 2)\n",
    "sns.boxenplot(x='encode_age', y='totChol', hue='male', data=df, palette='Accent')\n",
    "plt.xlabel('Age Group / Gender')\n",
    "plt.ylabel('Total Cholesterol')\n",
    "plt.xticks(ticks=[0,1,2], labels=['Adults', 'Middle-Aged', 'Senior'])\n",
    "plt.title('Total Chol. Count by Age Group')\n",
    "plt.legend(title='Gender')"
   ]
  },
  {
   "cell_type": "code",
   "execution_count": 20,
   "id": "613a73d2",
   "metadata": {},
   "outputs": [
    {
     "name": "stderr",
     "output_type": "stream",
     "text": [
      "C:\\Users\\Sajedeh\\anaconda3\\lib\\site-packages\\seaborn\\categorical.py:3747: UserWarning: The `size` parameter has been renamed to `height`; please update your code.\n",
      "  warnings.warn(msg, UserWarning)\n"
     ]
    },
    {
     "data": {
      "text/plain": [
       "Text(0.5, 1.0, 'Cigs. per day by Age Group')"
      ]
     },
     "execution_count": 20,
     "metadata": {},
     "output_type": "execute_result"
    }
   ],
   "source": [
    "#Violin Plot of Cigsperday by age group\n",
    "\n",
    "sns.catplot(data=df, x='encode_age', y='cigsPerDay', kind='violin', size=7, palette='Greys_r')\n",
    "plt.xlabel('Age Group / Gender')\n",
    "plt.ylabel('Cigs. / Day')\n",
    "plt.xticks(ticks=[0,1,2], labels=['Adults', 'Middle-Aged', 'Senior'])\n",
    "plt.title('Cigs. per day by Age Group')"
   ]
  },
  {
   "cell_type": "code",
   "execution_count": 21,
   "id": "10c08e9d",
   "metadata": {},
   "outputs": [
    {
     "name": "stderr",
     "output_type": "stream",
     "text": [
      "C:\\Users\\Sajedeh\\anaconda3\\lib\\site-packages\\seaborn\\categorical.py:3747: UserWarning: The `size` parameter has been renamed to `height`; please update your code.\n",
      "  warnings.warn(msg, UserWarning)\n"
     ]
    },
    {
     "data": {
      "text/plain": [
       "Text(0.5, 1.0, 'Diabetes by Age Group')"
      ]
     },
     "execution_count": 21,
     "metadata": {},
     "output_type": "execute_result"
    }
   ],
   "source": [
    "#Diabetes by Age Group\n",
    "\n",
    "sns.catplot(x='encode_age', hue='diabetes', data=df, kind='count', palette='seismic', size=6, legend=False)\n",
    "plt.xlabel('Age Group / Gender')\n",
    "plt.xticks(ticks=[0,1,2], labels=['Adults', 'Middle-Aged', 'Senior'])\n",
    "plt.ylabel('No. of Patients')\n",
    "plt.legend(['Neg.', 'Pos.'])\n",
    "plt.title('Diabetes by Age Group')"
   ]
  },
  {
   "cell_type": "code",
   "execution_count": 22,
   "id": "bb4bc70e",
   "metadata": {},
   "outputs": [
    {
     "data": {
      "text/plain": [
       "Text(0.5, 1.0, 'Target Class Count')"
      ]
     },
     "execution_count": 22,
     "metadata": {},
     "output_type": "execute_result"
    }
   ],
   "source": [
    "#Target Class count\n",
    "\n",
    "plt.figure(figsize=(8,8))\n",
    "plt.pie(df['TenYearCHD'].value_counts(), labels=['Neg.','Pos.'], autopct='%1.2f%%', explode=[0,0.2], shadow=True, colors=['crimson','gold'])\n",
    "my_circle = plt.Circle( (0,0), 0.4, color='white')\n",
    "p = plt.gcf()\n",
    "p.gca().add_artist(my_circle)\n",
    "plt.title('Target Class Count')"
   ]
  },
  {
   "cell_type": "code",
   "execution_count": 23,
   "id": "c0eb7d45",
   "metadata": {},
   "outputs": [],
   "source": [
    "#Making a copy of Dataset\n",
    "\n",
    "df_copy = df.copy()"
   ]
  },
  {
   "cell_type": "code",
   "execution_count": 24,
   "id": "4974e128",
   "metadata": {},
   "outputs": [
    {
     "data": {
      "text/html": [
       "<div>\n",
       "<style scoped>\n",
       "    .dataframe tbody tr th:only-of-type {\n",
       "        vertical-align: middle;\n",
       "    }\n",
       "\n",
       "    .dataframe tbody tr th {\n",
       "        vertical-align: top;\n",
       "    }\n",
       "\n",
       "    .dataframe thead th {\n",
       "        text-align: right;\n",
       "    }\n",
       "</style>\n",
       "<table border=\"1\" class=\"dataframe\">\n",
       "  <thead>\n",
       "    <tr style=\"text-align: right;\">\n",
       "      <th></th>\n",
       "      <th>ID</th>\n",
       "      <th>male</th>\n",
       "      <th>age</th>\n",
       "      <th>education</th>\n",
       "      <th>currentSmoker</th>\n",
       "      <th>cigsPerDay</th>\n",
       "      <th>BPMeds</th>\n",
       "      <th>prevalentStroke</th>\n",
       "      <th>prevalentHyp</th>\n",
       "      <th>diabetes</th>\n",
       "      <th>totChol</th>\n",
       "      <th>sysBP</th>\n",
       "      <th>diaBP</th>\n",
       "      <th>BMI</th>\n",
       "      <th>heartRate</th>\n",
       "      <th>glucose</th>\n",
       "      <th>TenYearCHD</th>\n",
       "      <th>enc_hr</th>\n",
       "      <th>encode_age</th>\n",
       "    </tr>\n",
       "  </thead>\n",
       "  <tbody>\n",
       "    <tr>\n",
       "      <th>0</th>\n",
       "      <td>1</td>\n",
       "      <td>1</td>\n",
       "      <td>39</td>\n",
       "      <td>4.0</td>\n",
       "      <td>0</td>\n",
       "      <td>0.0</td>\n",
       "      <td>0.0</td>\n",
       "      <td>0</td>\n",
       "      <td>0</td>\n",
       "      <td>0</td>\n",
       "      <td>195.0</td>\n",
       "      <td>106.0</td>\n",
       "      <td>70.0</td>\n",
       "      <td>26.97</td>\n",
       "      <td>80.0</td>\n",
       "      <td>77.0</td>\n",
       "      <td>0</td>\n",
       "      <td>1</td>\n",
       "      <td>0</td>\n",
       "    </tr>\n",
       "    <tr>\n",
       "      <th>1</th>\n",
       "      <td>2</td>\n",
       "      <td>0</td>\n",
       "      <td>46</td>\n",
       "      <td>2.0</td>\n",
       "      <td>0</td>\n",
       "      <td>0.0</td>\n",
       "      <td>0.0</td>\n",
       "      <td>0</td>\n",
       "      <td>0</td>\n",
       "      <td>0</td>\n",
       "      <td>250.0</td>\n",
       "      <td>121.0</td>\n",
       "      <td>81.0</td>\n",
       "      <td>28.73</td>\n",
       "      <td>95.0</td>\n",
       "      <td>76.0</td>\n",
       "      <td>0</td>\n",
       "      <td>1</td>\n",
       "      <td>1</td>\n",
       "    </tr>\n",
       "    <tr>\n",
       "      <th>2</th>\n",
       "      <td>3</td>\n",
       "      <td>1</td>\n",
       "      <td>48</td>\n",
       "      <td>1.0</td>\n",
       "      <td>1</td>\n",
       "      <td>20.0</td>\n",
       "      <td>0.0</td>\n",
       "      <td>0</td>\n",
       "      <td>0</td>\n",
       "      <td>0</td>\n",
       "      <td>245.0</td>\n",
       "      <td>127.5</td>\n",
       "      <td>80.0</td>\n",
       "      <td>25.34</td>\n",
       "      <td>75.0</td>\n",
       "      <td>70.0</td>\n",
       "      <td>0</td>\n",
       "      <td>1</td>\n",
       "      <td>1</td>\n",
       "    </tr>\n",
       "    <tr>\n",
       "      <th>3</th>\n",
       "      <td>4</td>\n",
       "      <td>0</td>\n",
       "      <td>61</td>\n",
       "      <td>3.0</td>\n",
       "      <td>1</td>\n",
       "      <td>30.0</td>\n",
       "      <td>0.0</td>\n",
       "      <td>0</td>\n",
       "      <td>1</td>\n",
       "      <td>0</td>\n",
       "      <td>225.0</td>\n",
       "      <td>150.0</td>\n",
       "      <td>95.0</td>\n",
       "      <td>28.58</td>\n",
       "      <td>65.0</td>\n",
       "      <td>103.0</td>\n",
       "      <td>1</td>\n",
       "      <td>1</td>\n",
       "      <td>2</td>\n",
       "    </tr>\n",
       "    <tr>\n",
       "      <th>4</th>\n",
       "      <td>5</td>\n",
       "      <td>0</td>\n",
       "      <td>46</td>\n",
       "      <td>3.0</td>\n",
       "      <td>1</td>\n",
       "      <td>23.0</td>\n",
       "      <td>0.0</td>\n",
       "      <td>0</td>\n",
       "      <td>0</td>\n",
       "      <td>0</td>\n",
       "      <td>285.0</td>\n",
       "      <td>130.0</td>\n",
       "      <td>84.0</td>\n",
       "      <td>23.10</td>\n",
       "      <td>85.0</td>\n",
       "      <td>85.0</td>\n",
       "      <td>0</td>\n",
       "      <td>1</td>\n",
       "      <td>1</td>\n",
       "    </tr>\n",
       "  </tbody>\n",
       "</table>\n",
       "</div>"
      ],
      "text/plain": [
       "   ID  male  age  education  currentSmoker  cigsPerDay  BPMeds  \\\n",
       "0   1     1   39        4.0              0         0.0     0.0   \n",
       "1   2     0   46        2.0              0         0.0     0.0   \n",
       "2   3     1   48        1.0              1        20.0     0.0   \n",
       "3   4     0   61        3.0              1        30.0     0.0   \n",
       "4   5     0   46        3.0              1        23.0     0.0   \n",
       "\n",
       "   prevalentStroke  prevalentHyp  diabetes  totChol  sysBP  diaBP    BMI  \\\n",
       "0                0             0         0    195.0  106.0   70.0  26.97   \n",
       "1                0             0         0    250.0  121.0   81.0  28.73   \n",
       "2                0             0         0    245.0  127.5   80.0  25.34   \n",
       "3                0             1         0    225.0  150.0   95.0  28.58   \n",
       "4                0             0         0    285.0  130.0   84.0  23.10   \n",
       "\n",
       "   heartRate  glucose  TenYearCHD  enc_hr  encode_age  \n",
       "0       80.0     77.0           0       1           0  \n",
       "1       95.0     76.0           0       1           1  \n",
       "2       75.0     70.0           0       1           1  \n",
       "3       65.0    103.0           1       1           2  \n",
       "4       85.0     85.0           0       1           1  "
      ]
     },
     "execution_count": 24,
     "metadata": {},
     "output_type": "execute_result"
    }
   ],
   "source": [
    "#Reading data\n",
    "\n",
    "df.head()"
   ]
  },
  {
   "cell_type": "code",
   "execution_count": 25,
   "id": "b207163c",
   "metadata": {},
   "outputs": [],
   "source": [
    "#Log Transform Continuous Variables\n",
    "\n",
    "df_copy['log_cigsPerDay'] = np.log1p(df_copy['cigsPerDay'])\n",
    "df_copy['log_totChol'] = np.log1p(df_copy['totChol'])\n",
    "#df_copy['log_sysBP'] = np.log1p(df_copy['sysBP'])\n",
    "df_copy['log_diaBP'] = np.log1p(df_copy['diaBP'])\n",
    "df_copy['log_BMI'] = np.log1p(df_copy['BMI'])\n",
    "df_copy['log_heartRate'] = np.log1p(df_copy['heartRate'])\n",
    "df_copy['log_glucose'] = np.log1p(df_copy['glucose'])\n",
    "df_copy['log_age'] = np.log1p(df_copy['age'])\n",
    "\n",
    "df_copy.drop(['cigsPerDay', 'totChol', 'sysBP', 'diaBP', 'BMI', 'heartRate', 'glucose', 'age',\n",
    "              'currentSmoker', 'education', 'enc_hr', 'encode_age'], axis=1, inplace=True)"
   ]
  },
  {
   "cell_type": "code",
   "execution_count": 26,
   "id": "3af811d9",
   "metadata": {},
   "outputs": [
    {
     "data": {
      "text/html": [
       "<div>\n",
       "<style scoped>\n",
       "    .dataframe tbody tr th:only-of-type {\n",
       "        vertical-align: middle;\n",
       "    }\n",
       "\n",
       "    .dataframe tbody tr th {\n",
       "        vertical-align: top;\n",
       "    }\n",
       "\n",
       "    .dataframe thead th {\n",
       "        text-align: right;\n",
       "    }\n",
       "</style>\n",
       "<table border=\"1\" class=\"dataframe\">\n",
       "  <thead>\n",
       "    <tr style=\"text-align: right;\">\n",
       "      <th></th>\n",
       "      <th>ID</th>\n",
       "      <th>male</th>\n",
       "      <th>BPMeds</th>\n",
       "      <th>prevalentStroke</th>\n",
       "      <th>prevalentHyp</th>\n",
       "      <th>diabetes</th>\n",
       "      <th>log_cigsPerDay</th>\n",
       "      <th>log_totChol</th>\n",
       "      <th>log_diaBP</th>\n",
       "      <th>log_BMI</th>\n",
       "      <th>log_heartRate</th>\n",
       "      <th>log_glucose</th>\n",
       "      <th>log_age</th>\n",
       "    </tr>\n",
       "  </thead>\n",
       "  <tbody>\n",
       "    <tr>\n",
       "      <th>0</th>\n",
       "      <td>-1.731642</td>\n",
       "      <td>1.153113</td>\n",
       "      <td>-0.173569</td>\n",
       "      <td>-0.077014</td>\n",
       "      <td>-0.671241</td>\n",
       "      <td>-0.162437</td>\n",
       "      <td>-0.928462</td>\n",
       "      <td>-0.958976</td>\n",
       "      <td>-1.130247</td>\n",
       "      <td>0.366175</td>\n",
       "      <td>0.417050</td>\n",
       "      <td>-0.179487</td>\n",
       "      <td>-1.296260</td>\n",
       "    </tr>\n",
       "    <tr>\n",
       "      <th>1</th>\n",
       "      <td>-1.730825</td>\n",
       "      <td>-0.867217</td>\n",
       "      <td>-0.173569</td>\n",
       "      <td>-0.077014</td>\n",
       "      <td>-0.671241</td>\n",
       "      <td>-0.162437</td>\n",
       "      <td>-0.928462</td>\n",
       "      <td>0.389489</td>\n",
       "      <td>-0.094351</td>\n",
       "      <td>0.781994</td>\n",
       "      <td>1.522102</td>\n",
       "      <td>-0.246230</td>\n",
       "      <td>-0.347297</td>\n",
       "    </tr>\n",
       "    <tr>\n",
       "      <th>2</th>\n",
       "      <td>-1.730008</td>\n",
       "      <td>1.153113</td>\n",
       "      <td>-0.173569</td>\n",
       "      <td>-0.077014</td>\n",
       "      <td>-0.671241</td>\n",
       "      <td>-0.162437</td>\n",
       "      <td>1.143043</td>\n",
       "      <td>0.279789</td>\n",
       "      <td>-0.182594</td>\n",
       "      <td>-0.042965</td>\n",
       "      <td>0.002631</td>\n",
       "      <td>-0.665854</td>\n",
       "      <td>-0.102079</td>\n",
       "    </tr>\n",
       "    <tr>\n",
       "      <th>3</th>\n",
       "      <td>-1.729191</td>\n",
       "      <td>-0.867217</td>\n",
       "      <td>-0.173569</td>\n",
       "      <td>-0.077014</td>\n",
       "      <td>1.489778</td>\n",
       "      <td>-0.162437</td>\n",
       "      <td>1.408036</td>\n",
       "      <td>-0.182514</td>\n",
       "      <td>1.039278</td>\n",
       "      <td>0.747528</td>\n",
       "      <td>-0.914968</td>\n",
       "      <td>1.308555</td>\n",
       "      <td>1.282600</td>\n",
       "    </tr>\n",
       "    <tr>\n",
       "      <th>4</th>\n",
       "      <td>-1.728374</td>\n",
       "      <td>-0.867217</td>\n",
       "      <td>-0.173569</td>\n",
       "      <td>-0.077014</td>\n",
       "      <td>-0.671241</td>\n",
       "      <td>-0.162437</td>\n",
       "      <td>1.233898</td>\n",
       "      <td>1.101174</td>\n",
       "      <td>0.164064</td>\n",
       "      <td>-0.648574</td>\n",
       "      <td>0.806637</td>\n",
       "      <td>0.325550</td>\n",
       "      <td>-0.347297</td>\n",
       "    </tr>\n",
       "  </tbody>\n",
       "</table>\n",
       "</div>"
      ],
      "text/plain": [
       "         ID      male    BPMeds  prevalentStroke  prevalentHyp  diabetes  \\\n",
       "0 -1.731642  1.153113 -0.173569        -0.077014     -0.671241 -0.162437   \n",
       "1 -1.730825 -0.867217 -0.173569        -0.077014     -0.671241 -0.162437   \n",
       "2 -1.730008  1.153113 -0.173569        -0.077014     -0.671241 -0.162437   \n",
       "3 -1.729191 -0.867217 -0.173569        -0.077014      1.489778 -0.162437   \n",
       "4 -1.728374 -0.867217 -0.173569        -0.077014     -0.671241 -0.162437   \n",
       "\n",
       "   log_cigsPerDay  log_totChol  log_diaBP   log_BMI  log_heartRate  \\\n",
       "0       -0.928462    -0.958976  -1.130247  0.366175       0.417050   \n",
       "1       -0.928462     0.389489  -0.094351  0.781994       1.522102   \n",
       "2        1.143043     0.279789  -0.182594 -0.042965       0.002631   \n",
       "3        1.408036    -0.182514   1.039278  0.747528      -0.914968   \n",
       "4        1.233898     1.101174   0.164064 -0.648574       0.806637   \n",
       "\n",
       "   log_glucose   log_age  \n",
       "0    -0.179487 -1.296260  \n",
       "1    -0.246230 -0.347297  \n",
       "2    -0.665854 -0.102079  \n",
       "3     1.308555  1.282600  \n",
       "4     0.325550 -0.347297  "
      ]
     },
     "execution_count": 26,
     "metadata": {},
     "output_type": "execute_result"
    }
   ],
   "source": [
    "#Normalizing dataset\n",
    "\n",
    "from sklearn.preprocessing import StandardScaler\n",
    "\n",
    "scaler = StandardScaler()\n",
    "\n",
    "cols = df_copy.drop(['TenYearCHD'], axis=1).columns\n",
    "\n",
    "norm_df = scaler.fit_transform(df_copy.drop(['TenYearCHD'], axis=1))\n",
    "norm_df = pd.DataFrame(data=norm_df, columns=cols, index=df_copy.drop(['TenYearCHD'], axis=1).index)                     \n",
    "norm_df.head()"
   ]
  },
  {
   "cell_type": "markdown",
   "id": "18c87bea",
   "metadata": {},
   "source": [
    "## Building Model\n",
    "This section in consite of two main part:\n",
    "a) Split dataset into Training & Validation sets. \n",
    "b) Build a basic Logistic Regression model on spilited dataset."
   ]
  },
  {
   "cell_type": "code",
   "execution_count": 27,
   "id": "1b173d00",
   "metadata": {},
   "outputs": [
    {
     "data": {
      "text/plain": [
       "((3180, 13), (1060, 13), (3180,), (1060,))"
      ]
     },
     "execution_count": 27,
     "metadata": {},
     "output_type": "execute_result"
    }
   ],
   "source": [
    "#train-test split\n",
    "from sklearn.model_selection import train_test_split, cross_val_score, GridSearchCV\n",
    "from sklearn.metrics import accuracy_score, confusion_matrix, classification_report, roc_auc_score, roc_curve, auc\n",
    "\n",
    "x = norm_df\n",
    "y = df_copy['TenYearCHD']\n",
    "\n",
    "x_train, x_test, y_train, y_test = train_test_split(x, y, random_state=23)\n",
    "x_train.shape, x_test.shape, y_train.shape, y_test.shape"
   ]
  },
  {
   "cell_type": "markdown",
   "id": "6d834802",
   "metadata": {},
   "source": [
    "### Logistic Regression"
   ]
  },
  {
   "cell_type": "code",
   "execution_count": 28,
   "id": "709cb6f2",
   "metadata": {},
   "outputs": [
    {
     "data": {
      "text/plain": [
       "array([0, 0, 0, ..., 0, 0, 0], dtype=int64)"
      ]
     },
     "execution_count": 28,
     "metadata": {},
     "output_type": "execute_result"
    }
   ],
   "source": [
    "# train a logistic regression model on the training set\n",
    "from sklearn.linear_model import LogisticRegression\n",
    "\n",
    "log_reg = LogisticRegression(solver='liblinear')\n",
    "log_reg.fit(x_train, y_train)\n",
    "\n",
    "log_pred = log_reg.predict(x_test)\n",
    "log_pred"
   ]
  },
  {
   "cell_type": "code",
   "execution_count": 29,
   "id": "1b2e899c",
   "metadata": {},
   "outputs": [
    {
     "name": "stdout",
     "output_type": "stream",
     "text": [
      "Accuracy Score : 0.8613207547169811\n",
      "Cross Validation Score :  0.8484276729559749\n",
      "              precision    recall  f1-score   support\n",
      "\n",
      "           0       0.86      1.00      0.93       908\n",
      "           1       0.86      0.04      0.08       152\n",
      "\n",
      "    accuracy                           0.86      1060\n",
      "   macro avg       0.86      0.52      0.50      1060\n",
      "weighted avg       0.86      0.86      0.80      1060\n",
      "\n"
     ]
    },
    {
     "data": {
      "text/plain": [
       "<AxesSubplot:title={'center':'Target Class Count'}>"
      ]
     },
     "execution_count": 29,
     "metadata": {},
     "output_type": "execute_result"
    }
   ],
   "source": [
    "#Metrics Evaluation\n",
    "\n",
    "print ('Accuracy Score :', accuracy_score(y_test, log_pred))\n",
    "print ('Cross Validation Score : ', cross_val_score(log_reg, x_train, y_train, cv=5).mean())\n",
    "print (classification_report(y_test, log_pred))\n",
    "\n",
    "sns.heatmap(confusion_matrix(y_test, log_pred), annot=True, cmap='cool', fmt='d')"
   ]
  },
  {
   "cell_type": "code",
   "execution_count": 30,
   "id": "ccbd1dc0",
   "metadata": {},
   "outputs": [
    {
     "data": {
      "text/plain": [
       "array([0, 1, 0, ..., 0, 1, 0], dtype=int64)"
      ]
     },
     "execution_count": 30,
     "metadata": {},
     "output_type": "execute_result"
    }
   ],
   "source": [
    "#add Class Weight Parameter to our Logistic Regression Estimator and see if it makes any Difference\n",
    "# train a logistic regression model on the training set\n",
    "from sklearn.linear_model import LogisticRegression\n",
    "\n",
    "log_reg_cw = LogisticRegression(solver='liblinear', class_weight='balanced')\n",
    "log_reg_cw.fit(x_train, y_train)\n",
    "\n",
    "log_cw_pred = log_reg_cw.predict(x_test)\n",
    "log_cw_pred"
   ]
  },
  {
   "cell_type": "code",
   "execution_count": 31,
   "id": "754596ef",
   "metadata": {},
   "outputs": [
    {
     "name": "stdout",
     "output_type": "stream",
     "text": [
      "Accuracy Score : 0.6452830188679245\n",
      "Cross Validation Score :  0.650314465408805\n",
      "              precision    recall  f1-score   support\n",
      "\n",
      "           0       0.93      0.63      0.75       908\n",
      "           1       0.25      0.71      0.36       152\n",
      "\n",
      "    accuracy                           0.65      1060\n",
      "   macro avg       0.59      0.67      0.56      1060\n",
      "weighted avg       0.83      0.65      0.70      1060\n",
      "\n"
     ]
    },
    {
     "data": {
      "text/plain": [
       "<AxesSubplot:title={'center':'Target Class Count'}>"
      ]
     },
     "execution_count": 31,
     "metadata": {},
     "output_type": "execute_result"
    }
   ],
   "source": [
    "#Metrics Evaluation\n",
    "\n",
    "print ('Accuracy Score :', accuracy_score(y_test, log_cw_pred))\n",
    "print ('Cross Validation Score : ', cross_val_score(log_reg_cw, x_train, y_train, cv=5).mean())\n",
    "print (classification_report(y_test, log_cw_pred))\n",
    "\n",
    "sns.heatmap(confusion_matrix(y_test, log_cw_pred), annot=True, cmap='winter', fmt='d')"
   ]
  },
  {
   "cell_type": "code",
   "execution_count": 32,
   "id": "5dfce54f",
   "metadata": {},
   "outputs": [
    {
     "name": "stdout",
     "output_type": "stream",
     "text": [
      "0    2688\n",
      "1     492\n",
      "Name: TenYearCHD, dtype: int64 \n",
      "\n"
     ]
    },
    {
     "data": {
      "text/plain": [
       "array([2688, 2688], dtype=int64)"
      ]
     },
     "execution_count": 32,
     "metadata": {},
     "output_type": "execute_result"
    }
   ],
   "source": [
    "#Over-Sampling using SMOTE\n",
    "#SMOTE creates synthetic observations based upon the existing minority observations.\n",
    "from imblearn.over_sampling import SMOTE, ADASYN, SVMSMOTE\n",
    "\n",
    "smote = SMOTE(sampling_strategy='not majority')\n",
    "x_s_res, y_s_res = smote.fit_resample(x_train, y_train)\n",
    "\n",
    "print (y_train.value_counts(), '\\n')\n",
    "np.bincount(y_s_res)"
   ]
  },
  {
   "cell_type": "markdown",
   "id": "fc1dd8e9",
   "metadata": {},
   "source": [
    "### Logistic Regression Post Over-Sampling"
   ]
  },
  {
   "cell_type": "code",
   "execution_count": 33,
   "id": "82ba500f",
   "metadata": {},
   "outputs": [
    {
     "data": {
      "text/plain": [
       "array([0, 1, 0, ..., 0, 1, 0], dtype=int64)"
      ]
     },
     "execution_count": 33,
     "metadata": {},
     "output_type": "execute_result"
    }
   ],
   "source": [
    "est_reg = LogisticRegression(solver='liblinear', max_iter=1000, C=1).fit(x_s_res, y_s_res)\n",
    "est_pred = est_reg.predict(x_test)\n",
    "est_pred"
   ]
  },
  {
   "cell_type": "code",
   "execution_count": 34,
   "id": "1bd5bd9f",
   "metadata": {},
   "outputs": [
    {
     "name": "stdout",
     "output_type": "stream",
     "text": [
      "Accuracy Score : 0.6518867924528302\n",
      "Cross Validation Score :  0.6781997060603441\n",
      "              precision    recall  f1-score   support\n",
      "\n",
      "           0       0.93      0.64      0.76       908\n",
      "           1       0.25      0.70      0.36       152\n",
      "\n",
      "    accuracy                           0.65      1060\n",
      "   macro avg       0.59      0.67      0.56      1060\n",
      "weighted avg       0.83      0.65      0.70      1060\n",
      "\n"
     ]
    },
    {
     "data": {
      "text/plain": [
       "<AxesSubplot:title={'center':'Target Class Count'}>"
      ]
     },
     "execution_count": 34,
     "metadata": {},
     "output_type": "execute_result"
    }
   ],
   "source": [
    "#Metrics Evaluation\n",
    "\n",
    "print ('Accuracy Score :', accuracy_score(y_test, est_pred))\n",
    "print ('Cross Validation Score : ', cross_val_score(est_reg, x_s_res, y_s_res, cv=5).mean())\n",
    "print (classification_report(y_test, est_pred))\n",
    "\n",
    "sns.heatmap(confusion_matrix(y_test, est_pred), annot=True, cmap='Greys_r', fmt='d')"
   ]
  },
  {
   "cell_type": "markdown",
   "id": "45269cf1",
   "metadata": {},
   "source": [
    "### ROC-AUC (Receiver Operating Characteristics - Area Under Curve)¶\n",
    "It is a performance measurement for classification problem.\n",
    "ROC is a probability curve and AUC represents degree or measure of separability.\n",
    "It tells how much model is capable of distinguishing between classes. Higher the AUC, better the model is at predicting 0s as 0s and 1s as 1s.\n",
    "By analogy, Higher the AUC, better the model is at distinguishing between patients with disease and no disease.\n",
    "The ROC curve is plotted with TPR against the FPR where TPR is on y-axis and FPR is on the x-axis."
   ]
  },
  {
   "cell_type": "code",
   "execution_count": 35,
   "id": "ce14d39e",
   "metadata": {},
   "outputs": [
    {
     "data": {
      "text/plain": [
       "Text(0.5, 1.0, 'Receiver operating characteristic - Area Under Curve (ROC-AUC)')"
      ]
     },
     "execution_count": 35,
     "metadata": {},
     "output_type": "execute_result"
    }
   ],
   "source": [
    "#Roc-Auc\n",
    "\n",
    "from sklearn.metrics import auc, roc_auc_score, roc_curve\n",
    "\n",
    "#log_prob = log_reg.predict_proba(x_test)\n",
    "log_prob_cw = log_reg_cw.predict_proba(x_test)\n",
    "log_prob_up = est_reg.predict_proba(x_test)\n",
    "\n",
    "#fpr, tpr, _ = roc_curve(y_test, log_prob[:,1])\n",
    "fpr_cw, tpr_cw, _ = roc_curve(y_test, log_prob_cw[:,1])\n",
    "fpr_up, tpr_up, _ = roc_curve(y_test, log_prob_up[:,1])\n",
    "\n",
    "#log_roc_auc = auc(fpr, tpr)\n",
    "log_cw_roc_auc = auc(fpr_cw, tpr_cw)\n",
    "log_up_roc_auc = auc(fpr_up, tpr_up)\n",
    "\n",
    "plt.figure(figsize=(10,7))\n",
    "\n",
    "#plt.plot(fpr, tpr, color=(np.random.rand(), np.random.rand(), np.random.rand()), label='AUC (Log. Reg.) = %0.4f'% log_roc_auc)\n",
    "plt.plot(fpr_cw, tpr_cw, color=(np.random.rand(), np.random.rand(), np.random.rand()), label='AUC (Log. Reg.) = %0.4f'% log_cw_roc_auc)\n",
    "plt.plot(fpr_up, tpr_up, color=(np.random.rand(), np.random.rand(), np.random.rand()), label='AUC (Log. Reg. (Post Upsamp.)) = %0.4f'% log_up_roc_auc)\n",
    "\n",
    "plt.plot([0,1], 'grey', lw=2, linestyle='-.')\n",
    "\n",
    "plt.legend(loc='lower right')\n",
    "plt.ylabel('True Positive Rate')\n",
    "plt.xlabel('False Positive Rate')\n",
    "plt.title('Receiver operating characteristic - Area Under Curve (ROC-AUC)')"
   ]
  },
  {
   "cell_type": "code",
   "execution_count": null,
   "id": "084ab7b1",
   "metadata": {},
   "outputs": [],
   "source": []
  }
 ],
 "metadata": {
  "kernelspec": {
   "display_name": "Python 3",
   "language": "python",
   "name": "python3"
  },
  "language_info": {
   "codemirror_mode": {
    "name": "ipython",
    "version": 3
   },
   "file_extension": ".py",
   "mimetype": "text/x-python",
   "name": "python",
   "nbconvert_exporter": "python",
   "pygments_lexer": "ipython3",
   "version": "3.8.8"
  }
 },
 "nbformat": 4,
 "nbformat_minor": 5
}
